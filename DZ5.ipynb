{
 "cells": [
  {
   "cell_type": "code",
   "execution_count": 3,
   "metadata": {},
   "outputs": [],
   "source": [
    "%matplotlib inline\n",
    "import numpy as np\n",
    "import matplotlib.pyplot as plt\n",
    "import matplotlib.mlab as mlab\n",
    "import random"
   ]
  },
  {
   "cell_type": "code",
   "execution_count": 7,
   "metadata": {},
   "outputs": [
    {
     "name": "stdout",
     "output_type": "stream",
     "text": [
      "Вероятность выпадения 1: 0.03\n",
      "Вероятность выпадения 2: 0.02\n",
      "Вероятность выпадения 1 или 2: 0.05\n",
      "Суммарная вероятность выпадения 1 или 2: 0.05\n"
     ]
    }
   ],
   "source": [
    "n = 100\n",
    "a = [np.random.randint(0, 37) for i in range(1, n)]\n",
    "rol = [i for i in range(0, 37)]\n",
    "k1, k2, ko = 0, 0, 0\n",
    "for i in a:\n",
    "    if i == 1:\n",
    "        k1 += 1  # выпадение 1\n",
    "        ko += 1\n",
    "    if i == 2:\n",
    "        k2 += 1  # выпадение 2\n",
    "        ko += 1\n",
    "\n",
    "print( f'Вероятность выпадения 1: {k1/n}')  \n",
    "print( f'Вероятность выпадения 2: {k2/n}') \n",
    "print( f'Вероятность выпадения 1 или 2: {ko/n}') \n",
    "print( f'Суммарная вероятность выпадения 1 или 2: {(k1 + k2)/n}') "
   ]
  },
  {
   "cell_type": "code",
   "execution_count": 37,
   "metadata": {},
   "outputs": [
    {
     "name": "stdout",
     "output_type": "stream",
     "text": [
      "Десять выборок десяти случайных велчин:\n",
      " [[7, 1, 8, 0, 6, 5, 7, 6, 1, 0], [8, 6, 2, 1, 4, 8, 6, 3, 1, 4], [5, 8, 9, 6, 9, 3, 1, 1, 5, 9], [2, 1, 5, 8, 7, 3, 1, 5, 3, 6], [6, 4, 5, 0, 1, 0, 9, 9, 2, 2], [6, 6, 6, 8, 6, 0, 5, 4, 6, 1], [3, 6, 3, 3, 9, 0, 3, 6, 7, 8], [6, 2, 4, 5, 7, 2, 6, 7, 1, 4], [0, 4, 7, 2, 9, 2, 3, 8, 0, 3], [9, 2, 9, 5, 7, 4, 2, 0, 0, 0]]\n",
      "Случайная сумма: \n",
      "[52, 40, 58, 38, 65, 27, 43, 49, 26, 37]\n"
     ]
    },
    {
     "data": {
      "text/plain": [
       "Text(0.5, 1.0, 'Гистограмма случайной суммы')"
      ]
     },
     "execution_count": 37,
     "metadata": {},
     "output_type": "execute_result"
    },
    {
     "data": {
      "image/png": "[encoded data removed]",
      "text/plain": [
       "<Figure size 432x288 with 1 Axes>"
      ]
     },
     "metadata": {
      "needs_background": "light"
     },
     "output_type": "display_data"
    }
   ],
   "source": [
    "from functools import reduce\n",
    "\n",
    "def add_vectors(v, w):\n",
    "    return [vi + wi for vi, wi in zip(v, w)]\n",
    "\n",
    "def sum_of_all_vectors(vecs):\n",
    "    return reduce(add_vectors, vecs)\n",
    "\n",
    "n = 10\n",
    "b = [[np.random.randint(0, n) for i in range(0, n)] for i in [np.random.randint(1, n) for i in range(0, n)]]\n",
    "print (f'Десять выборок десяти случайных велчин:\\n {b}')\n",
    "print(f\"Случайная сумма: \\n{sum_of_all_vectors(b)}\")\n",
    "\n",
    "num_bins = 5\n",
    "n, bins, patches = plt.hist(sum_of_all_vectors(b), num_bins)\n",
    "plt.title('Гистограмма случайной суммы')\n"
   ]
  },
  {
   "cell_type": "code",
   "execution_count": 66,
   "metadata": {},
   "outputs": [
    {
     "name": "stdout",
     "output_type": "stream",
     "text": [
      "[0 0 0 0 1 0 1 1 1 1] [1 0 1 1 0 0 0 0 0 1] [1 0 0 1 0 1 1 0 0 1] [0 0 1 1 1 0 1 1 0 0]\n",
      "[2 0 2 3 2 1 3 2 1 3]\n",
      "4 10 0.4\n",
      "Вероятность 2 успехов из 4 опытов по методу Монте-карло= 0.4\n",
      "Вероятность 2 успехов из 4 опытов по биному= 0.375\n"
     ]
    }
   ],
   "source": [
    "import itertools\n",
    "import math\n",
    "\n",
    "k, n = 0, 10\n",
    "a = np.random.randint(0, 2, n)\n",
    "b = np.random.randint(0, 2, n)\n",
    "c = np.random.randint(0, 2, n)\n",
    "d = np.random.randint(0, 2, n)\n",
    "x = a + b + c + d\n",
    "for i in range(0, n):\n",
    "    if x[i] == 2:\n",
    "        k = k + 1\n",
    "print(a, b, c, d)\n",
    "print(x)\n",
    "print(k, n, k/n)\n",
    "print (f'Вероятность 2 успехов из 4 опытов по методу Монте-карло= {k/n}')\n",
    "c_nk = math.factorial(4) / (math.factorial(2) * math.factorial(4 - 2))\n",
    "print (f'Вероятность 2 успехов из 4 опытов по биному= {c_nk / 2**4}')"
   ]
  },
  {
   "cell_type": "code",
   "execution_count": 89,
   "metadata": {},
   "outputs": [
    {
     "name": "stdout",
     "output_type": "stream",
     "text": [
      "Вероятность 2 успехов из 4 опытов по методу Монте-карло= 0.151\n",
      "Вероятность 2 успехов из 4 опытов по биному= 0.205\n"
     ]
    }
   ],
   "source": [
    "# моделируем броски 5 костей одновременно\n",
    "# ищем вероятность выпадения двух троек из пяти костей\n",
    "\n",
    "k, n, t, num = 0, 5, 6, 1000  # сумма исходов, число экспериментов(костей в одном броске), возможных значений, число повторов эксперимента Монте-карло\n",
    "#a = np.random.randint(0, n, num)\n",
    "#b = np.random.randint(0, n, num)\n",
    "#c = np.random.randint(0, n, num)\n",
    "#d = np.random.randint(0, n, num)\n",
    "a = [[np.random.randint(1, t + 1) for i in range(0, num)] for i in range(0, n)]\n",
    "#print (a)\n",
    "\n",
    "x = []\n",
    "for i in range(0, num):\n",
    "    k = 0\n",
    "    for j in range(0, n):\n",
    "        if a[j][i] == 3:\n",
    "            k = k + 1\n",
    "    x.append(k)\n",
    "\n",
    "k = 0\n",
    "for i in x:\n",
    "    if i == 2:\n",
    "        k += 1\n",
    "\n",
    "#print(x)\n",
    "#print(k, num, k/num)\n",
    "print (f'Вероятность 2 успехов из 4 опытов по методу Монте-карло= {k/num}')\n",
    "c_nk = math.factorial(n) / (math.factorial(2) * math.factorial(n - 2))\n",
    "print (f'Вероятность 2 успехов из 4 опытов по биному= {round(c_nk * (1/n)**2 * ((n-1)/n)**3, 3)}')"
   ]
  },
  {
   "cell_type": "code",
   "execution_count": 100,
   "metadata": {},
   "outputs": [
    {
     "name": "stdout",
     "output_type": "stream",
     "text": [
      "сс\n",
      "со\n",
      "ск\n",
      "ос\n",
      "оо\n",
      "ок\n",
      "кс\n",
      "ко\n",
      "кк\n"
     ]
    }
   ],
   "source": [
    "for p in itertools.product(\"сок\",repeat=2): # перестановка\n",
    "    print(''.join(p))   "
   ]
  },
  {
   "cell_type": "code",
   "execution_count": 104,
   "metadata": {},
   "outputs": [
    {
     "name": "stdout",
     "output_type": "stream",
     "text": [
      "со\n",
      "ск\n",
      "ос\n",
      "ок\n",
      "кс\n",
      "ко\n"
     ]
    }
   ],
   "source": [
    "for p in itertools.permutations(\"сок\",2): # размещение\n",
    "    print(''.join(str(x) for x in p))"
   ]
  },
  {
   "cell_type": "code",
   "execution_count": 105,
   "metadata": {},
   "outputs": [
    {
     "name": "stdout",
     "output_type": "stream",
     "text": [
      "со\n",
      "ск\n",
      "ок\n"
     ]
    }
   ],
   "source": [
    "for p in itertools.combinations(\"сок\",2): # сочетания\n",
    "    print(''.join(p))"
   ]
  },
  {
   "cell_type": "code",
   "execution_count": 113,
   "metadata": {},
   "outputs": [
    {
     "data": {
      "image/png": "[encoded data removed]",
      "text/plain": [
       "<Figure size 432x288 with 1 Axes>"
      ]
     },
     "metadata": {
      "needs_background": "light"
     },
     "output_type": "display_data"
    },
    {
     "name": "stdout",
     "output_type": "stream",
     "text": [
      "Коэффициент корреляции по встроенной функции: \n",
      " [[1.         0.70572859]\n",
      " [0.70572859 1.        ]]\n",
      "Коэффициент корреляции расчитанный почти вручную: 0.7057285943135723\n"
     ]
    }
   ],
   "source": [
    "import matplotlib.pyplot as plt\n",
    "\n",
    "def Average(lst):\n",
    "    return sum(lst) / len(lst)\n",
    "\n",
    "n = 1000\n",
    "r = 0.5\n",
    "x = np.random.rand(n)\n",
    "y = r*x + (1 - r)*np.random.rand(n)\n",
    "plt.plot(x, y, 'o')\n",
    "plt.xlabel('x')\n",
    "plt.ylabel('y')\n",
    "plt.grid(True)\n",
    "plt.show()\n",
    "c = np.corrcoef(x, y) \n",
    "\n",
    "x_m =  Average(x)\n",
    "y_m =  Average(y)\n",
    "sum1 = 0\n",
    "sum2 = 0\n",
    "sum3 = 0\n",
    "for i in range(n):\n",
    "    sum1 += (x[i] - x_m) * (y[i] -y_m)\n",
    "    sum2 += (x[i] - x_m)**2 \n",
    "    sum3 += (y[i] - y_m)**2\n",
    "print(f'Коэффициент корреляции по встроенной функции: \\n {c}')\n",
    "print(f'Коэффициент корреляции расчитанный почти вручную: {sum1 / (math.sqrt(sum2 * sum3))}')\n",
    "\n"
   ]
  }
 ],
 "metadata": {
  "kernelspec": {
   "display_name": "Python 3",
   "language": "python",
   "name": "python3"
  },
  "language_info": {
   "codemirror_mode": {
    "name": "ipython",
    "version": 3
   },
   "file_extension": ".py",
   "mimetype": "text/x-python",
   "name": "python",
   "nbconvert_exporter": "python",
   "pygments_lexer": "ipython3",
   "version": "3.9.0"
  }
 },
 "nbformat": 4,
 "nbformat_minor": 4
}
